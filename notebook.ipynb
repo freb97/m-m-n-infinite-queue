{
 "cells": [
  {
   "cell_type": "code",
   "execution_count": 44,
   "metadata": {
    "collapsed": true
   },
   "outputs": [
    {
     "name": "stdout",
     "output_type": "stream",
     "text": [
      "Arrival: 23.456897442481768\n",
      "Start: 24\n",
      "Retention: 1461.8362592270341\n",
      "Arrival: 162.9464667928293\n",
      "Start: 1486\n",
      "Retention: 1359.0555428576538\n",
      "Arrival: 480.9553767052045\n",
      "Start: 1523\n",
      "Retention: 1925.7341490418405\n",
      "Arrival: 509.81372883477377\n",
      "Start: 2407\n",
      "Retention: 2221.93175091603\n",
      "Arrival: 579.1567003466063\n",
      "Start: 2732\n",
      "Retention: 2198.6857511783146\n",
      "Arrival: 1215.1857219466954\n",
      "Start: 2778\n",
      "Retention: 1724.4636303852847\n",
      "Arrival: 1263.3288862485426\n",
      "Start: 2940\n",
      "Retention: 2359.129648865073\n",
      "Arrival: 1409.8968924347378\n",
      "Start: 3623\n",
      "Retention: 2470.078005521558\n",
      "Arrival: 1758.2173434000856\n",
      "Start: 3880\n",
      "Retention: 2467.965125354498\n",
      "Arrival: 1815.2201046852729\n",
      "Start: 4227\n",
      "Retention: 2785.8432525512385\n",
      "Arrival: 1870.416001307857\n",
      "Start: 4602\n",
      "Retention: 2802.878436646998\n",
      "Arrival: 2423.2179130799996\n",
      "Start: 4674\n",
      "Retention: 2715.3147108985518\n",
      "Arrival: 2424.6905897430693\n",
      "Start: 5139\n",
      "Retention: 4912.508545715199\n",
      "Arrival: 3045.1083764900663\n",
      "Start: 7338\n",
      "Retention: 4749.073197981435\n",
      "Arrival: 3287.606629577349\n",
      "Start: 7795\n",
      "Retention: 5493.538132759126\n",
      "Arrival: 4242.380445117285\n",
      "Start: 8782\n",
      "Retention: 4660.958721125298\n",
      "Arrival: 4299.117483709003\n",
      "Start: 8904\n",
      "Retention: 4719.469066709451\n",
      "Arrival: 5172.552712052285\n",
      "Start: 9019\n",
      "Retention: 4659.706694172508\n",
      "Arrival: 5659.128123773942\n",
      "Start: 9833\n",
      "Retention: 5613.391784863108\n",
      "Arrival: 6000.318859881237\n",
      "Start: 11273\n",
      "Retention: 5458.529853877508\n",
      "Arrival: 6048.794711287172\n",
      "Start: 11459\n",
      "Retention: 5819.753932177813\n",
      "Arrival: 6771.853807436265\n",
      "Start: 11869\n",
      "Retention: 5359.436862617835\n",
      "Arrival: 10022.477333593442\n",
      "Start: 12132\n",
      "Retention: 3321.466824742787\n",
      "Arrival: 12469.581152871297\n",
      "Start: 13344\n",
      "Retention: 2295.7791712540484\n",
      "Arrival: 16280.976340556095\n",
      "Start: 16281\n",
      "Retention: 419.33052158236393\n",
      "Task count: 25\n",
      "Wait time (in seconds): 2838\n",
      "Total time (in seconds): 18000\n"
     ]
    }
   ],
   "source": [
    "%run scheduler.py"
   ]
  }
 ],
 "metadata": {
  "kernelspec": {
   "display_name": "Python 3",
   "language": "python",
   "name": "python3"
  },
  "language_info": {
   "codemirror_mode": {
    "name": "ipython",
    "version": 2
   },
   "file_extension": ".py",
   "mimetype": "text/x-python",
   "name": "python",
   "nbconvert_exporter": "python",
   "pygments_lexer": "ipython2",
   "version": "2.7.6"
  }
 },
 "nbformat": 4,
 "nbformat_minor": 0
}